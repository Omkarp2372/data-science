{
 "cells": [
  {
   "cell_type": "code",
   "execution_count": 2,
   "id": "346ace37-a7d7-49ce-91ad-6c8e0bd92934",
   "metadata": {},
   "outputs": [],
   "source": [
    "#1. __init__ is constructor used to construct some class.double underscore must be taken."
   ]
  },
  {
   "cell_type": "code",
   "execution_count": 29,
   "id": "f74b34fe-f9a8-4b96-b884-72db83ed2ed7",
   "metadata": {},
   "outputs": [],
   "source": [
    "class vehicle:\n",
    "    def __init__(self ,name_of_vehicle, max_speed , average_of_vehicle ):\n",
    "        self.name_of_vehicle =name_of_vehicle\n",
    "        self.max_speed = max_speed \n",
    "        self.average_of_vehicle =average_of_vehicle \n",
    "        \n",
    "        \n",
    "    def vehicle_details(self):\n",
    "        return self.name_of_vehicle ,self.max_speed ,self.average_of_vehicle"
   ]
  },
  {
   "cell_type": "code",
   "execution_count": 20,
   "id": "1d6b8cbe-0342-41cf-9967-1a48228fc1fe",
   "metadata": {},
   "outputs": [],
   "source": [
    "A = vehicle( \"toyota car \", 110 , 70)"
   ]
  },
  {
   "cell_type": "code",
   "execution_count": 21,
   "id": "824af2eb-9d07-432d-821f-f3561143ae95",
   "metadata": {},
   "outputs": [
    {
     "data": {
      "text/plain": [
       "('toyota car ', 110, 70)"
      ]
     },
     "execution_count": 21,
     "metadata": {},
     "output_type": "execute_result"
    }
   ],
   "source": [
    "A.vehicle_details()"
   ]
  },
  {
   "cell_type": "code",
   "execution_count": 45,
   "id": "748b894c-9c8a-4624-841d-a44d84a33e88",
   "metadata": {},
   "outputs": [],
   "source": [
    "# 2. \n",
    "\n",
    "class car(vehicle):\n",
    "    def seating_capacity(self):\n",
    "        return 5\n",
    "    \n"
   ]
  },
  {
   "cell_type": "code",
   "execution_count": 46,
   "id": "71f7fd49-2b85-4782-8520-f335daadac97",
   "metadata": {},
   "outputs": [],
   "source": [
    "class model(car):\n",
    "    pass"
   ]
  },
  {
   "cell_type": "code",
   "execution_count": 48,
   "id": "9aab50c8-3259-431c-a276-1ed7f15b8016",
   "metadata": {},
   "outputs": [],
   "source": [
    "s = model('inova',60,70)"
   ]
  },
  {
   "cell_type": "code",
   "execution_count": 49,
   "id": "46f7421d-879d-48fa-ba36-6e157a02f982",
   "metadata": {},
   "outputs": [
    {
     "data": {
      "text/plain": [
       "'inova'"
      ]
     },
     "execution_count": 49,
     "metadata": {},
     "output_type": "execute_result"
    }
   ],
   "source": [
    "s.name_of_vehicle"
   ]
  },
  {
   "cell_type": "code",
   "execution_count": 51,
   "id": "1f4bd2ee-cb57-4bea-a078-fd3e4f1af80a",
   "metadata": {},
   "outputs": [
    {
     "data": {
      "text/plain": [
       "5"
      ]
     },
     "execution_count": 51,
     "metadata": {},
     "output_type": "execute_result"
    }
   ],
   "source": [
    "s.seating_capacity()"
   ]
  },
  {
   "cell_type": "code",
   "execution_count": 5,
   "id": "28173473-3e9e-4e6a-a951-aa9d1c697e12",
   "metadata": {},
   "outputs": [],
   "source": [
    "# #3. multiple inheritance is method in which class can inherit attributes\n",
    "# and methods from more than one parent class.class can be derived from two or more base classes, \n",
    "# allowing it to inherit the characteristics of all its parent classes."
   ]
  },
  {
   "cell_type": "code",
   "execution_count": 6,
   "id": "a4b7829d-5365-4b7c-8584-58694ab4a348",
   "metadata": {},
   "outputs": [],
   "source": [
    "class method1 :\n",
    "    def test_class1(self):\n",
    "        return \"There are two types of inheritance\"\n",
    "    \n",
    "             "
   ]
  },
  {
   "cell_type": "code",
   "execution_count": 7,
   "id": "85de7a69-40ab-41c7-bb45-3b380d93d022",
   "metadata": {},
   "outputs": [],
   "source": [
    "class method2:\n",
    "    def test_class2(self):\n",
    "        return \"multilabel and multiple inheritance ate two types\""
   ]
  },
  {
   "cell_type": "code",
   "execution_count": 8,
   "id": "01c41444-1db8-43c6-ab43-83c276d37566",
   "metadata": {},
   "outputs": [],
   "source": [
    "class method3(method1,method2):\n",
    "    pass"
   ]
  },
  {
   "cell_type": "code",
   "execution_count": 9,
   "id": "bcd84f85-4f16-4103-b9f3-8bc96cd36b7f",
   "metadata": {},
   "outputs": [],
   "source": [
    "obj_method3 = method3()"
   ]
  },
  {
   "cell_type": "code",
   "execution_count": 10,
   "id": "a78191e1-d2c7-4526-be30-0cc5d6e52cf8",
   "metadata": {},
   "outputs": [
    {
     "data": {
      "text/plain": [
       "'There are two types of inheritance'"
      ]
     },
     "execution_count": 10,
     "metadata": {},
     "output_type": "execute_result"
    }
   ],
   "source": [
    "obj_method3.test_class1()"
   ]
  },
  {
   "cell_type": "code",
   "execution_count": 11,
   "id": "ce84a462-8fea-4259-977e-a3ff2591a1dd",
   "metadata": {},
   "outputs": [
    {
     "data": {
      "text/plain": [
       "'multilabel and multiple inheritance ate two types'"
      ]
     },
     "execution_count": 11,
     "metadata": {},
     "output_type": "execute_result"
    }
   ],
   "source": [
    "obj_method3.test_class2()"
   ]
  },
  {
   "cell_type": "code",
   "execution_count": 12,
   "id": "cc1aae9e-85d2-4133-9742-baa4f9c4bc79",
   "metadata": {},
   "outputs": [],
   "source": [
    "# #4. In Python, getters and setters are methods used to control the access\n",
    "# and modification of the attributes (instance variables) of a class. \n",
    "# A getter method is used to retrieve the value of an attribute.\n",
    "# A setter method is used to set or modify the value of an attribute. "
   ]
  },
  {
   "cell_type": "code",
   "execution_count": 23,
   "id": "1ac35eb7-12f2-4f4c-822c-6db3fe827208",
   "metadata": {},
   "outputs": [],
   "source": [
    "class car :\n",
    "    def __init__(self, name_car ,year ,model , speed):\n",
    "        self.__name_car =name_car\n",
    "        self.__year =year\n",
    "        self.__model = model\n",
    "        self.__speed =0\n",
    "        \n",
    "    def set_speed(self,speed):\n",
    "        self.__speed = 0 if speed <0 else speed\n",
    "        \n",
    "    def get_speed(self):\n",
    "        return self.__speed\n",
    "        \n",
    "        "
   ]
  },
  {
   "cell_type": "code",
   "execution_count": 24,
   "id": "440a6128-3f1e-48d7-93e7-4e470c40ff9c",
   "metadata": {},
   "outputs": [],
   "source": [
    "car_inf = car( 'toyota' ,2011 , 'inova' , 20)"
   ]
  },
  {
   "cell_type": "code",
   "execution_count": 25,
   "id": "af29c23b-a87c-414f-ab71-4631caa5a770",
   "metadata": {},
   "outputs": [
    {
     "data": {
      "text/plain": [
       "'inova'"
      ]
     },
     "execution_count": 25,
     "metadata": {},
     "output_type": "execute_result"
    }
   ],
   "source": [
    "car_inf._car__model"
   ]
  },
  {
   "cell_type": "code",
   "execution_count": 26,
   "id": "fe885ebf-6314-4ad7-9e18-cae5b702e6ba",
   "metadata": {},
   "outputs": [],
   "source": [
    "car_inf.set_speed(-23)"
   ]
  },
  {
   "cell_type": "code",
   "execution_count": 27,
   "id": "3156dc3f-b414-4b49-ba7e-b318ce7f282c",
   "metadata": {},
   "outputs": [
    {
     "data": {
      "text/plain": [
       "0"
      ]
     },
     "execution_count": 27,
     "metadata": {},
     "output_type": "execute_result"
    }
   ],
   "source": [
    "car_inf.get_speed()"
   ]
  },
  {
   "cell_type": "code",
   "execution_count": 28,
   "id": "bd3c89c0-7eec-4bcd-9581-94f16a7943b4",
   "metadata": {},
   "outputs": [],
   "source": [
    "car_inf.set_speed(90)"
   ]
  },
  {
   "cell_type": "code",
   "execution_count": 29,
   "id": "5fd81cc4-a77e-4eae-967e-6b7853636ca3",
   "metadata": {},
   "outputs": [
    {
     "data": {
      "text/plain": [
       "90"
      ]
     },
     "execution_count": 29,
     "metadata": {},
     "output_type": "execute_result"
    }
   ],
   "source": [
    "car_inf.get_speed()"
   ]
  },
  {
   "cell_type": "code",
   "execution_count": 31,
   "id": "6c80aa3a-7509-4b8c-8f3b-e40491449a3e",
   "metadata": {},
   "outputs": [],
   "source": [
    "# #5.Method overriding is a concept in OOPS where a subclass provides a \n",
    "# specific implementation for a method that is already defined in its superclass.\n",
    "# This allows the subclass to modify or extend the behavior of the inherited method\n",
    "# where we use multilabel inheritance."
   ]
  },
  {
   "cell_type": "code",
   "execution_count": 32,
   "id": "42c6564b-066b-4517-aac2-92d3bfcf0819",
   "metadata": {},
   "outputs": [],
   "source": [
    "class Animals:\n",
    "    def test_class1(self):\n",
    "        return 'Animals are living thing on earth'\n",
    "        "
   ]
  },
  {
   "cell_type": "code",
   "execution_count": 33,
   "id": "36144f93-4ac9-437d-b94b-baeb0014c51d",
   "metadata": {},
   "outputs": [],
   "source": [
    "class Human(Animals):\n",
    "    def test_class2(self):\n",
    "        return 'Human are only craetuve animal'\n",
    "    "
   ]
  },
  {
   "cell_type": "code",
   "execution_count": 34,
   "id": "7ba91df5-ac37-430a-b9c5-f3d06b2c2ef3",
   "metadata": {},
   "outputs": [],
   "source": [
    "class male(Human):\n",
    "    pass"
   ]
  },
  {
   "cell_type": "code",
   "execution_count": 35,
   "id": "70eecfd5-af20-4dda-9059-ee8c3ac58bd5",
   "metadata": {},
   "outputs": [],
   "source": [
    "obj_male=male()"
   ]
  },
  {
   "cell_type": "code",
   "execution_count": 36,
   "id": "d2c8796b-df2e-4698-b169-f7540cc83e59",
   "metadata": {},
   "outputs": [
    {
     "data": {
      "text/plain": [
       "'Animals are living thing on earth'"
      ]
     },
     "execution_count": 36,
     "metadata": {},
     "output_type": "execute_result"
    }
   ],
   "source": [
    "obj_male.test_class1()"
   ]
  },
  {
   "cell_type": "code",
   "execution_count": 37,
   "id": "02abc162-77d9-4cb7-947f-17cca11aa0f0",
   "metadata": {},
   "outputs": [
    {
     "data": {
      "text/plain": [
       "'Human are only craetuve animal'"
      ]
     },
     "execution_count": 37,
     "metadata": {},
     "output_type": "execute_result"
    }
   ],
   "source": [
    "obj_male.test_class2()"
   ]
  },
  {
   "cell_type": "code",
   "execution_count": 38,
   "id": "e3c9e05e-6b75-46ce-8379-99f8c6812487",
   "metadata": {},
   "outputs": [],
   "source": [
    "obj_Human =Human()"
   ]
  },
  {
   "cell_type": "code",
   "execution_count": 39,
   "id": "a1f67398-09e6-4bd5-805f-108fe991fac2",
   "metadata": {},
   "outputs": [
    {
     "data": {
      "text/plain": [
       "'Animals are living thing on earth'"
      ]
     },
     "execution_count": 39,
     "metadata": {},
     "output_type": "execute_result"
    }
   ],
   "source": [
    "obj_Human.test_class1()"
   ]
  },
  {
   "cell_type": "code",
   "execution_count": null,
   "id": "e97dcd15-bf00-4829-8fbe-e062fe4c98a7",
   "metadata": {},
   "outputs": [],
   "source": []
  }
 ],
 "metadata": {
  "kernelspec": {
   "display_name": "Python 3 (ipykernel)",
   "language": "python",
   "name": "python3"
  },
  "language_info": {
   "codemirror_mode": {
    "name": "ipython",
    "version": 3
   },
   "file_extension": ".py",
   "mimetype": "text/x-python",
   "name": "python",
   "nbconvert_exporter": "python",
   "pygments_lexer": "ipython3",
   "version": "3.10.8"
  }
 },
 "nbformat": 4,
 "nbformat_minor": 5
}
