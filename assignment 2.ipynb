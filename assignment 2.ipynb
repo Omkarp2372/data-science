{
 "cells": [
  {
   "cell_type": "code",
   "execution_count": 2,
   "id": "77801d7f-f362-4054-963e-d3b497444c2a",
   "metadata": {},
   "outputs": [],
   "source": [
    "# # 1. comment code in python by # sign.\n",
    "# two types of comment = single line comment\n",
    "#                     multiple line comment\n"
   ]
  },
  {
   "cell_type": "code",
   "execution_count": 6,
   "id": "0f568710-20eb-422e-8627-5bd44742dacd",
   "metadata": {},
   "outputs": [
    {
     "data": {
      "text/plain": [
       "int"
      ]
     },
     "execution_count": 6,
     "metadata": {},
     "output_type": "execute_result"
    }
   ],
   "source": [
    "# # 2. variable are symbolic name given to object as reference.\n",
    "# value are assign to variable by assignment operator( = ) and declared by run cell.\n",
    "var1= 1\n",
    "type(var1)"
   ]
  },
  {
   "cell_type": "code",
   "execution_count": 7,
   "id": "ea1c265a-01be-484f-80d9-dabbf62132d8",
   "metadata": {},
   "outputs": [
    {
     "data": {
      "text/plain": [
       "int"
      ]
     },
     "execution_count": 7,
     "metadata": {},
     "output_type": "execute_result"
    }
   ],
   "source": [
    "# #3.one data type convert into another data type by using conversion function like int(),str(),etc\n",
    "# it change type of given data into another type\n",
    "x=1\n",
    "type(x)"
   ]
  },
  {
   "cell_type": "code",
   "execution_count": 8,
   "id": "b8aa9327-579f-4662-83d9-353ec87c0872",
   "metadata": {},
   "outputs": [
    {
     "data": {
      "text/plain": [
       "1.0"
      ]
     },
     "execution_count": 8,
     "metadata": {},
     "output_type": "execute_result"
    }
   ],
   "source": [
    "float(int(x))"
   ]
  },
  {
   "cell_type": "code",
   "execution_count": 9,
   "id": "f0d610a9-9239-4be9-83ed-c98da745ba2d",
   "metadata": {},
   "outputs": [
    {
     "data": {
      "text/plain": [
       "list"
      ]
     },
     "execution_count": 9,
     "metadata": {},
     "output_type": "execute_result"
    }
   ],
   "source": [
    "x=[1,2,3,3,4,4,4]\n",
    "type(x)"
   ]
  },
  {
   "cell_type": "code",
   "execution_count": 10,
   "id": "f96a295a-d194-43f2-b355-f1e69da96f80",
   "metadata": {},
   "outputs": [
    {
     "data": {
      "text/plain": [
       "(1, 2, 3, 3, 4, 4, 4)"
      ]
     },
     "execution_count": 10,
     "metadata": {},
     "output_type": "execute_result"
    }
   ],
   "source": [
    "tuple(list(x))"
   ]
  },
  {
   "cell_type": "code",
   "execution_count": 12,
   "id": "ce387ba6-40ce-4360-8ff9-4978315919d6",
   "metadata": {},
   "outputs": [
    {
     "ename": "ValueError",
     "evalue": "invalid literal for int() with base 10: 'some'",
     "output_type": "error",
     "traceback": [
      "\u001b[0;31m---------------------------------------------------------------------------\u001b[0m",
      "\u001b[0;31mValueError\u001b[0m                                Traceback (most recent call last)",
      "Cell \u001b[0;32mIn[12], line 3\u001b[0m\n\u001b[1;32m      1\u001b[0m \u001b[38;5;66;03m#but string does not convert because element\u001b[39;00m\n\u001b[1;32m      2\u001b[0m s\u001b[38;5;241m=\u001b[39m\u001b[38;5;124m\"\u001b[39m\u001b[38;5;124msome\u001b[39m\u001b[38;5;124m\"\u001b[39m\n\u001b[0;32m----> 3\u001b[0m \u001b[38;5;28;43mint\u001b[39;49m\u001b[43m(\u001b[49m\u001b[38;5;28;43mstr\u001b[39;49m\u001b[43m(\u001b[49m\u001b[43ms\u001b[49m\u001b[43m)\u001b[49m\u001b[43m)\u001b[49m\n",
      "\u001b[0;31mValueError\u001b[0m: invalid literal for int() with base 10: 'some'"
     ]
    }
   ],
   "source": [
    "#but string does not convert because element\n",
    "s=\"some\"\n",
    "int(str(s))"
   ]
  },
  {
   "cell_type": "code",
   "execution_count": 50,
   "id": "10e417aa-6775-41cc-a480-69c8ca19ee48",
   "metadata": {},
   "outputs": [
    {
     "data": {
      "text/plain": [
       "list"
      ]
     },
     "execution_count": 50,
     "metadata": {},
     "output_type": "execute_result"
    }
   ],
   "source": [
    "#4.write python script using variable,command and assign condition then run the script\n",
    "a=[1,1,2,3,3,3]\n",
    "type(a)"
   ]
  },
  {
   "cell_type": "code",
   "execution_count": 51,
   "id": "44cd0298-2578-43f0-ba3d-014b3c907f73",
   "metadata": {},
   "outputs": [
    {
     "data": {
      "text/plain": [
       "bool"
      ]
     },
     "execution_count": 51,
     "metadata": {},
     "output_type": "execute_result"
    }
   ],
   "source": [
    "b=True\n",
    "type(b)"
   ]
  },
  {
   "cell_type": "code",
   "execution_count": 57,
   "id": "a6b9c9bc-28c0-4f08-b8ab-9ae52d96f158",
   "metadata": {},
   "outputs": [],
   "source": [
    "a.append(8+9j)"
   ]
  },
  {
   "cell_type": "code",
   "execution_count": 58,
   "id": "47395093-78a2-4ef8-bc5f-535c7e37dd59",
   "metadata": {},
   "outputs": [
    {
     "data": {
      "text/plain": [
       "[1, 1, 2, 3, 3, 3, (7+9j), (7+9j), (7+9j), (8+9j)]"
      ]
     },
     "execution_count": 58,
     "metadata": {},
     "output_type": "execute_result"
    }
   ],
   "source": [
    "a"
   ]
  },
  {
   "cell_type": "code",
   "execution_count": 14,
   "id": "a6b51160-9f5b-4235-9b0f-264ed8a40820",
   "metadata": {},
   "outputs": [],
   "source": [
    "#5.\n",
    "my_list= [1,2,3,4,5]"
   ]
  },
  {
   "cell_type": "code",
   "execution_count": 27,
   "id": "ab5bf1c1-458f-4487-86cc-c620984df68e",
   "metadata": {},
   "outputs": [],
   "source": [
    "sub_list = my_list[1:3:1]\n"
   ]
  },
  {
   "cell_type": "code",
   "execution_count": 28,
   "id": "9b603db8-cf6f-443e-9695-73c856dba0a7",
   "metadata": {},
   "outputs": [
    {
     "data": {
      "text/plain": [
       "[2, 3]"
      ]
     },
     "execution_count": 28,
     "metadata": {},
     "output_type": "execute_result"
    }
   ],
   "source": [
    "sub_list"
   ]
  },
  {
   "cell_type": "code",
   "execution_count": 29,
   "id": "788d7ffc-dcc5-471a-9936-e241de2074f0",
   "metadata": {},
   "outputs": [
    {
     "data": {
      "text/plain": [
       "complex"
      ]
     },
     "execution_count": 29,
     "metadata": {},
     "output_type": "execute_result"
    }
   ],
   "source": [
    "# #6. complex number is combination of real number and imaginary number denoted by\n",
    "#   a+jb where a and b are real part and j is imaginary part. represented by\n",
    "a=9+5j\n",
    "type(a)\n"
   ]
  },
  {
   "cell_type": "code",
   "execution_count": 30,
   "id": "76534159-587e-430a-a43f-a60e67c49473",
   "metadata": {},
   "outputs": [
    {
     "data": {
      "text/plain": [
       "complex"
      ]
     },
     "execution_count": 30,
     "metadata": {},
     "output_type": "execute_result"
    }
   ],
   "source": [
    "b=8-9j\n",
    "type(b)"
   ]
  },
  {
   "cell_type": "code",
   "execution_count": 32,
   "id": "15749a22-4d24-4460-b1f7-091b2e59d17d",
   "metadata": {},
   "outputs": [],
   "source": [
    "# #7.variable can be alphabet or() special character cant used,they are case sensitiuve\n",
    "# age ,AGE,Age are vdifferent variables\n",
    "age = 25"
   ]
  },
  {
   "cell_type": "code",
   "execution_count": 33,
   "id": "861ff79f-f10e-4c49-a78e-0d38a142ad23",
   "metadata": {},
   "outputs": [
    {
     "data": {
      "text/plain": [
       "int"
      ]
     },
     "execution_count": 33,
     "metadata": {},
     "output_type": "execute_result"
    }
   ],
   "source": [
    "type(age)"
   ]
  },
  {
   "cell_type": "code",
   "execution_count": 34,
   "id": "5f67f286-57ae-4cd8-854e-b581671447d6",
   "metadata": {},
   "outputs": [],
   "source": [
    "#8.\n",
    "price=9.99"
   ]
  },
  {
   "cell_type": "code",
   "execution_count": 35,
   "id": "aa4321da-6fdb-4641-b0a1-8a0aa87d455b",
   "metadata": {},
   "outputs": [
    {
     "data": {
      "text/plain": [
       "float"
      ]
     },
     "execution_count": 35,
     "metadata": {},
     "output_type": "execute_result"
    }
   ],
   "source": [
    "type(price)"
   ]
  },
  {
   "cell_type": "code",
   "execution_count": 36,
   "id": "fb3d3621-f688-4aba-8ddc-b75068d19e91",
   "metadata": {},
   "outputs": [],
   "source": [
    "# 9.\n",
    "name = \"Omkar Krishnat Patil\""
   ]
  },
  {
   "cell_type": "code",
   "execution_count": 37,
   "id": "d32074ff-49d7-4e3b-866b-ccc7f777401b",
   "metadata": {},
   "outputs": [
    {
     "data": {
      "text/plain": [
       "'Omkar Krishnat Patil'"
      ]
     },
     "execution_count": 37,
     "metadata": {},
     "output_type": "execute_result"
    }
   ],
   "source": [
    "name"
   ]
  },
  {
   "cell_type": "code",
   "execution_count": 38,
   "id": "7bbaaaad-61b6-45b5-9af1-dfb644c43d43",
   "metadata": {},
   "outputs": [
    {
     "data": {
      "text/plain": [
       "str"
      ]
     },
     "execution_count": 38,
     "metadata": {},
     "output_type": "execute_result"
    }
   ],
   "source": [
    "type(name)"
   ]
  },
  {
   "cell_type": "code",
   "execution_count": 40,
   "id": "ef1f28aa-4236-4354-a139-92646a3cd535",
   "metadata": {},
   "outputs": [
    {
     "data": {
      "text/plain": [
       "str"
      ]
     },
     "execution_count": 40,
     "metadata": {},
     "output_type": "execute_result"
    }
   ],
   "source": [
    "#10.\n",
    "string = \"Hello,World!\"\n",
    "type(string)"
   ]
  },
  {
   "cell_type": "code",
   "execution_count": 46,
   "id": "554e3624-1ba6-4d80-a136-c5acf504ebec",
   "metadata": {},
   "outputs": [
    {
     "data": {
      "text/plain": [
       "'World'"
      ]
     },
     "execution_count": 46,
     "metadata": {},
     "output_type": "execute_result"
    }
   ],
   "source": [
    "#sting is immutable object\n",
    "string[-6:-1:1]"
   ]
  },
  {
   "cell_type": "code",
   "execution_count": 47,
   "id": "05a41c25-bed1-4c74-b053-e86e6d127000",
   "metadata": {},
   "outputs": [
    {
     "data": {
      "text/plain": [
       "'World'"
      ]
     },
     "execution_count": 47,
     "metadata": {},
     "output_type": "execute_result"
    }
   ],
   "source": [
    "string[6:11]"
   ]
  },
  {
   "cell_type": "code",
   "execution_count": 65,
   "id": "62d87735-4b72-40a4-816e-befbed849c09",
   "metadata": {},
   "outputs": [
    {
     "data": {
      "text/plain": [
       "False"
      ]
     },
     "execution_count": 65,
     "metadata": {},
     "output_type": "execute_result"
    }
   ],
   "source": [
    "#11.\n",
    "\"is_student\"==True"
   ]
  },
  {
   "cell_type": "code",
   "execution_count": null,
   "id": "670347cd-37de-44e7-910a-5d37a222af74",
   "metadata": {},
   "outputs": [],
   "source": [
    "\"is_student\"==False"
   ]
  }
 ],
 "metadata": {
  "kernelspec": {
   "display_name": "Python 3 (ipykernel)",
   "language": "python",
   "name": "python3"
  },
  "language_info": {
   "codemirror_mode": {
    "name": "ipython",
    "version": 3
   },
   "file_extension": ".py",
   "mimetype": "text/x-python",
   "name": "python",
   "nbconvert_exporter": "python",
   "pygments_lexer": "ipython3",
   "version": "3.10.8"
  }
 },
 "nbformat": 4,
 "nbformat_minor": 5
}
