{
 "cells": [
  {
   "cell_type": "code",
   "execution_count": 1,
   "id": "747ca24d-01f0-4f0e-9127-42b8d247f366",
   "metadata": {},
   "outputs": [
    {
     "data": {
      "text/plain": [
       "str"
      ]
     },
     "execution_count": 1,
     "metadata": {},
     "output_type": "execute_result"
    }
   ],
   "source": [
    "s='omakar'\n",
    "type(s)"
   ]
  },
  {
   "cell_type": "code",
   "execution_count": 4,
   "id": "4fd2eb8f-8dc7-4e35-af47-1c75bd16b0af",
   "metadata": {},
   "outputs": [
    {
     "data": {
      "text/plain": [
       "list"
      ]
     },
     "execution_count": 4,
     "metadata": {},
     "output_type": "execute_result"
    }
   ],
   "source": [
    "l=[1,2,23,3.444,2,'omi',True,7+9j]\n",
    "type(l)"
   ]
  },
  {
   "cell_type": "code",
   "execution_count": 3,
   "id": "eb290c1d-099c-462e-be6e-2bf48e9bacff",
   "metadata": {},
   "outputs": [
    {
     "data": {
      "text/plain": [
       "float"
      ]
     },
     "execution_count": 3,
     "metadata": {},
     "output_type": "execute_result"
    }
   ],
   "source": [
    "j=2222.4444333\n",
    "type(j)"
   ]
  },
  {
   "cell_type": "code",
   "execution_count": 5,
   "id": "8b607da6-5ee0-4b04-a556-e7ad9385d212",
   "metadata": {},
   "outputs": [
    {
     "data": {
      "text/plain": [
       "tuple"
      ]
     },
     "execution_count": 5,
     "metadata": {},
     "output_type": "execute_result"
    }
   ],
   "source": [
    "t=(1,333,455,665,2,3.44,True,'omi',9-8j)\n",
    "type(t)"
   ]
  },
  {
   "cell_type": "code",
   "execution_count": 7,
   "id": "5708ae17-a285-4ab8-9be7-48642faee768",
   "metadata": {},
   "outputs": [
    {
     "data": {
      "text/plain": [
       "str"
      ]
     },
     "execution_count": 7,
     "metadata": {},
     "output_type": "execute_result"
    }
   ],
   "source": [
    "var1=''\n",
    "type(var1)"
   ]
  },
  {
   "cell_type": "code",
   "execution_count": 8,
   "id": "f50ad315-af25-4186-bcdd-7edf59f7ad6b",
   "metadata": {},
   "outputs": [
    {
     "data": {
      "text/plain": [
       "str"
      ]
     },
     "execution_count": 8,
     "metadata": {},
     "output_type": "execute_result"
    }
   ],
   "source": [
    "var2='[DS,ML,Python]'\n",
    "type(var2)"
   ]
  },
  {
   "cell_type": "code",
   "execution_count": 11,
   "id": "01da183a-aafe-49ef-bbde-481c9b7e3a70",
   "metadata": {},
   "outputs": [
    {
     "data": {
      "text/plain": [
       "list"
      ]
     },
     "execution_count": 11,
     "metadata": {},
     "output_type": "execute_result"
    }
   ],
   "source": [
    "var3=['DS','ML','Python']\n",
    "type(var3)"
   ]
  },
  {
   "cell_type": "code",
   "execution_count": 13,
   "id": "0e4462b8-7a4d-4c3b-a8c2-f7db5eade8da",
   "metadata": {},
   "outputs": [
    {
     "data": {
      "text/plain": [
       "int"
      ]
     },
     "execution_count": 13,
     "metadata": {},
     "output_type": "execute_result"
    }
   ],
   "source": [
    "var4=1\n",
    "type(var4)"
   ]
  },
  {
   "cell_type": "code",
   "execution_count": 14,
   "id": "6a74c677-7130-4a99-a344-ee61d9cdbf7d",
   "metadata": {},
   "outputs": [
    {
     "data": {
      "text/plain": [
       "0.8"
      ]
     },
     "execution_count": 14,
     "metadata": {},
     "output_type": "execute_result"
    }
   ],
   "source": [
    "#  operator / used for division\n",
    "4/5"
   ]
  },
  {
   "cell_type": "code",
   "execution_count": 15,
   "id": "d4326653-eefc-47d8-bcf0-d509989df6d5",
   "metadata": {},
   "outputs": [
    {
     "data": {
      "text/plain": [
       "4"
      ]
     },
     "execution_count": 15,
     "metadata": {},
     "output_type": "execute_result"
    }
   ],
   "source": [
    "# % operator used for remainder in division process\n",
    "4%5"
   ]
  },
  {
   "cell_type": "code",
   "execution_count": 16,
   "id": "bd90f0e4-d697-4335-a4fa-95044e72998c",
   "metadata": {},
   "outputs": [
    {
     "data": {
      "text/plain": [
       "0"
      ]
     },
     "execution_count": 16,
     "metadata": {},
     "output_type": "execute_result"
    }
   ],
   "source": [
    "# // operator used for division flour or factor\n",
    "4//5"
   ]
  },
  {
   "cell_type": "code",
   "execution_count": 17,
   "id": "b90c1715-b786-4f4e-bda5-057a6c2fb9f9",
   "metadata": {},
   "outputs": [
    {
     "data": {
      "text/plain": [
       "2"
      ]
     },
     "execution_count": 17,
     "metadata": {},
     "output_type": "execute_result"
    }
   ],
   "source": [
    "10//5"
   ]
  },
  {
   "cell_type": "code",
   "execution_count": 18,
   "id": "1477aee6-15e3-40bb-bb0d-f19029803258",
   "metadata": {},
   "outputs": [
    {
     "data": {
      "text/plain": [
       "2.5"
      ]
     },
     "execution_count": 18,
     "metadata": {},
     "output_type": "execute_result"
    }
   ],
   "source": [
    "10/4"
   ]
  },
  {
   "cell_type": "code",
   "execution_count": 19,
   "id": "d0e8c499-fc41-4b35-bf4f-dfce1b3bd3de",
   "metadata": {},
   "outputs": [
    {
     "data": {
      "text/plain": [
       "27"
      ]
     },
     "execution_count": 19,
     "metadata": {},
     "output_type": "execute_result"
    }
   ],
   "source": [
    "# operator ** used for power of number in sq, cube,...\n",
    "3**3"
   ]
  },
  {
   "cell_type": "code",
   "execution_count": 21,
   "id": "241f2e8b-ea81-458e-b1e6-2e3124570931",
   "metadata": {},
   "outputs": [
    {
     "data": {
      "text/plain": [
       "16"
      ]
     },
     "execution_count": 21,
     "metadata": {},
     "output_type": "execute_result"
    }
   ],
   "source": [
    "4**2"
   ]
  },
  {
   "cell_type": "code",
   "execution_count": 23,
   "id": "d13a4127-1be7-4184-a4d6-f8cb4ee7c8da",
   "metadata": {},
   "outputs": [
    {
     "data": {
      "text/plain": [
       "list"
      ]
     },
     "execution_count": 23,
     "metadata": {},
     "output_type": "execute_result"
    }
   ],
   "source": [
    "l=[1,2,2222.3222,'omi',\"PHYSICS\",True,False,7+9j,(1,2,3,'omkar'),[1,2,2,33,'omi']]\n",
    "type(l)"
   ]
  },
  {
   "cell_type": "code",
   "execution_count": 24,
   "id": "4d8c97df-a832-474a-a723-17a134f67576",
   "metadata": {},
   "outputs": [
    {
     "data": {
      "text/plain": [
       "10"
      ]
     },
     "execution_count": 24,
     "metadata": {},
     "output_type": "execute_result"
    }
   ],
   "source": [
    "len(l)"
   ]
  },
  {
   "cell_type": "code",
   "execution_count": 25,
   "id": "7c026c99-d2a0-44d0-bfae-7fb49a4f4f5f",
   "metadata": {},
   "outputs": [
    {
     "name": "stdout",
     "output_type": "stream",
     "text": [
      "1\n",
      "<class 'int'>\n",
      "2\n",
      "<class 'int'>\n",
      "2222.3222\n",
      "<class 'float'>\n",
      "omi\n",
      "<class 'str'>\n",
      "PHYSICS\n",
      "<class 'str'>\n",
      "True\n",
      "<class 'bool'>\n",
      "False\n",
      "<class 'bool'>\n",
      "(7+9j)\n",
      "<class 'complex'>\n",
      "(1, 2, 3, 'omkar')\n",
      "<class 'tuple'>\n",
      "[1, 2, 2, 33, 'omi']\n",
      "<class 'list'>\n"
     ]
    }
   ],
   "source": [
    "for i in l :\n",
    "    print(i)\n",
    "    print(type(i))"
   ]
  },
  {
   "cell_type": "code",
   "execution_count": 32,
   "id": "3eeb1509-82c4-44c8-8aca-4b8c587a4afc",
   "metadata": {},
   "outputs": [
    {
     "name": "stdout",
     "output_type": "stream",
     "text": [
      "A is purely divisible by B and it can divisible by i times\n"
     ]
    }
   ],
   "source": [
    "# let assume A and B\n",
    "A=12\n",
    "B=2\n",
    "#Using while loop\n",
    "i=0\n",
    "while A % B == 0 :\n",
    "    A = A // B\n",
    "    i += 1\n",
    "if i > 0 :\n",
    "    print(\"A is purely divisible by B and it can divisible by i times\")\n",
    "else :\n",
    "    print(\"A is not divisible by B\")\n"
   ]
  },
  {
   "cell_type": "code",
   "execution_count": 51,
   "id": "552c7095-5f6c-4c5d-9031-a3c739dff355",
   "metadata": {},
   "outputs": [],
   "source": [
    "\n",
    "#mutable data type can exchange data, modify and add and remove data\n",
    "p=[1,2,34,4,5,5]\n",
    "p[3]=2.456"
   ]
  },
  {
   "cell_type": "code",
   "execution_count": 42,
   "id": "3ea33116-69a0-4c24-bede-4de2f63d102c",
   "metadata": {},
   "outputs": [
    {
     "data": {
      "text/plain": [
       "[1, 2, 34, 2.456, 5, 5]"
      ]
     },
     "execution_count": 42,
     "metadata": {},
     "output_type": "execute_result"
    }
   ],
   "source": [
    "p\n"
   ]
  },
  {
   "cell_type": "code",
   "execution_count": 45,
   "id": "0bc060f7-7cc9-46b8-bc05-c40c95d39117",
   "metadata": {},
   "outputs": [
    {
     "ename": "TypeError",
     "evalue": "'set' object does not support item assignment",
     "output_type": "error",
     "traceback": [
      "\u001b[0;31m---------------------------------------------------------------------------\u001b[0m",
      "\u001b[0;31mTypeError\u001b[0m                                 Traceback (most recent call last)",
      "Cell \u001b[0;32mIn[45], line 2\u001b[0m\n\u001b[1;32m      1\u001b[0m g\u001b[38;5;241m=\u001b[39m{\u001b[38;5;241m1\u001b[39m,\u001b[38;5;241m3333\u001b[39m,\u001b[38;5;241m5566\u001b[39m,\u001b[38;5;241m655655\u001b[39m,\u001b[38;5;241m1\u001b[39m,\u001b[38;5;241m11\u001b[39m,\u001b[38;5;241m2\u001b[39m}\n\u001b[0;32m----> 2\u001b[0m \u001b[43mg\u001b[49m\u001b[43m[\u001b[49m\u001b[38;5;241;43m0\u001b[39;49m\u001b[43m]\u001b[49m\u001b[38;5;241m=\u001b[39m\u001b[38;5;241m56667\u001b[39m\n",
      "\u001b[0;31mTypeError\u001b[0m: 'set' object does not support item assignment"
     ]
    }
   ],
   "source": [
    "##imutable data type doesnt add remove data or modify it\n",
    "g={1,3333,5566,655655,1,11,2}\n",
    "g[0]=56667"
   ]
  },
  {
   "cell_type": "code",
   "execution_count": 48,
   "id": "fc0ee9b1-6f04-405f-869a-360913bd6d1b",
   "metadata": {},
   "outputs": [
    {
     "ename": "TypeError",
     "evalue": "'str' object does not support item assignment",
     "output_type": "error",
     "traceback": [
      "\u001b[0;31m---------------------------------------------------------------------------\u001b[0m",
      "\u001b[0;31mTypeError\u001b[0m                                 Traceback (most recent call last)",
      "Cell \u001b[0;32mIn[48], line 2\u001b[0m\n\u001b[1;32m      1\u001b[0m s\u001b[38;5;241m=\u001b[39m\u001b[38;5;124m'\u001b[39m\u001b[38;5;124momkar\u001b[39m\u001b[38;5;124m'\u001b[39m\n\u001b[0;32m----> 2\u001b[0m \u001b[43ms\u001b[49m\u001b[43m[\u001b[49m\u001b[38;5;241;43m1\u001b[39;49m\u001b[43m]\u001b[49m\u001b[38;5;241m=\u001b[39m\u001b[38;5;241m122\u001b[39m\n",
      "\u001b[0;31mTypeError\u001b[0m: 'str' object does not support item assignment"
     ]
    }
   ],
   "source": [
    "s='omkar'\n",
    "s[1]=122"
   ]
  },
  {
   "cell_type": "code",
   "execution_count": 2,
   "id": "581c6140-8f23-4eeb-96de-e3264814c358",
   "metadata": {},
   "outputs": [],
   "source": [
    "l=[i for i in range(1,26)]"
   ]
  },
  {
   "cell_type": "code",
   "execution_count": 4,
   "id": "7e7b91fe-054c-4a1c-af48-af1283aafe6e",
   "metadata": {},
   "outputs": [
    {
     "name": "stdout",
     "output_type": "stream",
     "text": [
      "1\n",
      "i is not divisible by 3\n",
      "2\n",
      "i is not divisible by 3\n",
      "3\n",
      "i is divisible by 3\n",
      "4\n",
      "i is not divisible by 3\n",
      "5\n",
      "i is not divisible by 3\n",
      "6\n",
      "i is divisible by 3\n",
      "7\n",
      "i is not divisible by 3\n",
      "8\n",
      "i is not divisible by 3\n",
      "9\n",
      "i is divisible by 3\n",
      "10\n",
      "i is not divisible by 3\n",
      "11\n",
      "i is not divisible by 3\n",
      "12\n",
      "i is divisible by 3\n",
      "13\n",
      "i is not divisible by 3\n",
      "14\n",
      "i is not divisible by 3\n",
      "15\n",
      "i is divisible by 3\n",
      "16\n",
      "i is not divisible by 3\n",
      "17\n",
      "i is not divisible by 3\n",
      "18\n",
      "i is divisible by 3\n",
      "19\n",
      "i is not divisible by 3\n",
      "20\n",
      "i is not divisible by 3\n",
      "21\n",
      "i is divisible by 3\n",
      "22\n",
      "i is not divisible by 3\n",
      "23\n",
      "i is not divisible by 3\n",
      "24\n",
      "i is divisible by 3\n",
      "25\n",
      "i is not divisible by 3\n"
     ]
    }
   ],
   "source": [
    "for i in l:\n",
    "    print(i)\n",
    "    if i % 3 ==0 :\n",
    "        print(\"i is divisible by 3\")\n",
    "    else :\n",
    "        print(\"i is not divisible by 3\")"
   ]
  },
  {
   "cell_type": "code",
   "execution_count": null,
   "id": "12823528-3eba-4c7a-96a3-74909801a5bc",
   "metadata": {},
   "outputs": [],
   "source": []
  }
 ],
 "metadata": {
  "kernelspec": {
   "display_name": "Python 3 (ipykernel)",
   "language": "python",
   "name": "python3"
  },
  "language_info": {
   "codemirror_mode": {
    "name": "ipython",
    "version": 3
   },
   "file_extension": ".py",
   "mimetype": "text/x-python",
   "name": "python",
   "nbconvert_exporter": "python",
   "pygments_lexer": "ipython3",
   "version": "3.10.8"
  }
 },
 "nbformat": 4,
 "nbformat_minor": 5
}
