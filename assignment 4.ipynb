{
 "cells": [
  {
   "cell_type": "code",
   "execution_count": 3,
   "id": "b08711bd-556f-4a08-8e4d-9f3881e4a83d",
   "metadata": {},
   "outputs": [],
   "source": [
    "#1 .lambda is anynous function\n",
    "l =[('Sachin Tendulkar', 34357), ('Ricky Ponting', 27483), ('Jack Kallis', 25534), ('Virat Kohli', 24936)]"
   ]
  },
  {
   "cell_type": "code",
   "execution_count": 4,
   "id": "5015c7b5-1281-402a-be48-8b5fc06e0089",
   "metadata": {},
   "outputs": [
    {
     "data": {
      "text/plain": [
       "[('Virat Kohli', 24936),\n",
       " ('Jack Kallis', 25534),\n",
       " ('Ricky Ponting', 27483),\n",
       " ('Sachin Tendulkar', 34357)]"
      ]
     },
     "execution_count": 4,
     "metadata": {},
     "output_type": "execute_result"
    }
   ],
   "source": [
    "list(sorted(l , key =lambda x :x[1]))"
   ]
  },
  {
   "cell_type": "code",
   "execution_count": 3,
   "id": "38085e03-2d94-4c8c-af20-6b1bc1c98fb8",
   "metadata": {},
   "outputs": [],
   "source": [
    "# 2. \n",
    "L=list(range(1,11))"
   ]
  },
  {
   "cell_type": "code",
   "execution_count": 4,
   "id": "7f355252-cb0b-47ab-b566-51b13e2b9508",
   "metadata": {},
   "outputs": [
    {
     "data": {
      "text/plain": [
       "[1, 2, 3, 4, 5, 6, 7, 8, 9, 10]"
      ]
     },
     "execution_count": 4,
     "metadata": {},
     "output_type": "execute_result"
    }
   ],
   "source": [
    "L"
   ]
  },
  {
   "cell_type": "code",
   "execution_count": 5,
   "id": "b5f347ef-d135-42a8-a005-0bc906ec627c",
   "metadata": {},
   "outputs": [
    {
     "data": {
      "text/plain": [
       "[1, 4, 9, 16, 25, 36, 49, 64, 81, 100]"
      ]
     },
     "execution_count": 5,
     "metadata": {},
     "output_type": "execute_result"
    }
   ],
   "source": [
    "list(map(lambda x: x**2 ,L))"
   ]
  },
  {
   "cell_type": "code",
   "execution_count": 6,
   "id": "bd6b2fa6-2a2c-44e7-a90f-819392c3204b",
   "metadata": {},
   "outputs": [],
   "source": [
    "# 3. \n",
    "string= L"
   ]
  },
  {
   "cell_type": "code",
   "execution_count": 7,
   "id": "454a86b2-f180-4342-b275-df3db815bfa3",
   "metadata": {},
   "outputs": [
    {
     "data": {
      "text/plain": [
       "[1, 2, 3, 4, 5, 6, 7, 8, 9, 10]"
      ]
     },
     "execution_count": 7,
     "metadata": {},
     "output_type": "execute_result"
    }
   ],
   "source": [
    "string"
   ]
  },
  {
   "cell_type": "code",
   "execution_count": 55,
   "id": "66f8d91b-1589-4c65-b101-ffc4a3e63952",
   "metadata": {},
   "outputs": [],
   "source": [
    "def fun(n):\n",
    "    l1=[]\n",
    "    for i in n:\n",
    "        l1.append(str(i))\n",
    "        \n",
    "    return l1"
   ]
  },
  {
   "cell_type": "code",
   "execution_count": 57,
   "id": "876e7b14-9998-4e0a-a4b0-f1029eaf5627",
   "metadata": {},
   "outputs": [
    {
     "data": {
      "text/plain": [
       "('1', '2', '3', '4', '5', '6', '7', '8', '9', '10')"
      ]
     },
     "execution_count": 57,
     "metadata": {},
     "output_type": "execute_result"
    }
   ],
   "source": [
    "tuple(fun(string))"
   ]
  },
  {
   "cell_type": "code",
   "execution_count": 21,
   "id": "e626eef7-c832-471a-b9c2-000d993613e6",
   "metadata": {},
   "outputs": [],
   "source": [
    "# 4. it is important to import reduce fun from tool\n",
    "from functools import reduce"
   ]
  },
  {
   "cell_type": "code",
   "execution_count": 18,
   "id": "2cb4dd7f-c5fd-4c1f-bbf3-9cd4acaff9fb",
   "metadata": {},
   "outputs": [],
   "source": [
    "l=list(range(1,26))"
   ]
  },
  {
   "cell_type": "code",
   "execution_count": 20,
   "id": "9806a94e-b413-48ff-9ae8-99e7d8bae769",
   "metadata": {},
   "outputs": [
    {
     "data": {
      "text/plain": [
       "15511210043330985984000000"
      ]
     },
     "execution_count": 20,
     "metadata": {},
     "output_type": "execute_result"
    }
   ],
   "source": [
    "reduce(lambda x, y: x*y , l)"
   ]
  },
  {
   "cell_type": "code",
   "execution_count": 22,
   "id": "9e0977c2-503c-4b0c-9455-2d26bee39e09",
   "metadata": {},
   "outputs": [],
   "source": [
    "# 5. \n",
    "l=[2, 3, 6, 9, 27, 60, 90, 120, 55, 46]"
   ]
  },
  {
   "cell_type": "code",
   "execution_count": 23,
   "id": "6791a552-4c16-410b-94e9-1eae13a486a3",
   "metadata": {},
   "outputs": [],
   "source": [
    "l1= list(filter(lambda x : x% 2 ==0 , l))"
   ]
  },
  {
   "cell_type": "code",
   "execution_count": 24,
   "id": "ae9b4c3b-7e24-4c86-8d78-8b8a07d40039",
   "metadata": {},
   "outputs": [
    {
     "data": {
      "text/plain": [
       "[2, 6, 60, 90, 120, 46]"
      ]
     },
     "execution_count": 24,
     "metadata": {},
     "output_type": "execute_result"
    }
   ],
   "source": [
    "l1"
   ]
  },
  {
   "cell_type": "code",
   "execution_count": 25,
   "id": "45078e0b-a3d9-4d96-8340-b5a738fb09c8",
   "metadata": {},
   "outputs": [],
   "source": [
    "l2=list(filter(lambda y: y % 3==0, l))"
   ]
  },
  {
   "cell_type": "code",
   "execution_count": 26,
   "id": "620f99fe-6266-4ccc-8634-300388b50721",
   "metadata": {},
   "outputs": [
    {
     "data": {
      "text/plain": [
       "[3, 6, 9, 27, 60, 90, 120]"
      ]
     },
     "execution_count": 26,
     "metadata": {},
     "output_type": "execute_result"
    }
   ],
   "source": [
    "l2"
   ]
  },
  {
   "cell_type": "code",
   "execution_count": 41,
   "id": "649ca207-da57-466f-9057-867f89891b0c",
   "metadata": {},
   "outputs": [],
   "source": [
    "# # 6. in Python, a palindrome is a sequence of characters that reads the same forwards as it does backwards. \n",
    "# In other words, a palindrome remains unchanged when its characters are reversed. \n",
    "# Palindromes can be words, phrases, or any sequence of characters.\n",
    "pal=['python', 'php', 'aba', 'radar', 'level']"
   ]
  },
  {
   "cell_type": "code",
   "execution_count": 51,
   "id": "f0adec06-bcb7-4030-98ab-3928932707f8",
   "metadata": {},
   "outputs": [],
   "source": [
    "def palindrome(n) :\n",
    "    \n",
    "    return n==n[::-1]\n"
   ]
  },
  {
   "cell_type": "code",
   "execution_count": 52,
   "id": "7edeeaee-e03f-431d-baae-093fb821bbda",
   "metadata": {},
   "outputs": [],
   "source": [
    "output=list(filter(lambda x : palindrome(x), pal))"
   ]
  },
  {
   "cell_type": "code",
   "execution_count": 53,
   "id": "ac388f30-95f0-4913-8c18-579451dca322",
   "metadata": {},
   "outputs": [
    {
     "data": {
      "text/plain": [
       "['php', 'aba', 'radar', 'level']"
      ]
     },
     "execution_count": 53,
     "metadata": {},
     "output_type": "execute_result"
    }
   ],
   "source": [
    "output"
   ]
  },
  {
   "cell_type": "code",
   "execution_count": null,
   "id": "a31ab37a-0e0c-4f75-91d7-f88e60ad40c9",
   "metadata": {},
   "outputs": [],
   "source": []
  }
 ],
 "metadata": {
  "kernelspec": {
   "display_name": "Python 3 (ipykernel)",
   "language": "python",
   "name": "python3"
  },
  "language_info": {
   "codemirror_mode": {
    "name": "ipython",
    "version": 3
   },
   "file_extension": ".py",
   "mimetype": "text/x-python",
   "name": "python",
   "nbconvert_exporter": "python",
   "pygments_lexer": "ipython3",
   "version": "3.10.8"
  }
 },
 "nbformat": 4,
 "nbformat_minor": 5
}
