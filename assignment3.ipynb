{
 "cells": [
  {
   "cell_type": "code",
   "execution_count": 7,
   "id": "e331fe14-15bb-439d-aa9c-fee038661ad1",
   "metadata": {},
   "outputs": [],
   "source": [
    "#1. def keyword used to define function\n",
    "def list_():\n",
    "    \"\"\"My first work in Function\"\"\"\n",
    "    list1=[]\n",
    "    for i in range(0,26):\n",
    "        if i%2 !=0:\n",
    "            list1.append(i)\n",
    "    return list1"
   ]
  },
  {
   "cell_type": "code",
   "execution_count": 6,
   "id": "9ac47f56-0350-4824-835d-595f843c2c56",
   "metadata": {},
   "outputs": [
    {
     "data": {
      "text/plain": [
       "[1, 3, 5, 7, 9, 11, 13, 15, 17, 19, 21, 23, 25]"
      ]
     },
     "execution_count": 6,
     "metadata": {},
     "output_type": "execute_result"
    }
   ],
   "source": [
    "list_()"
   ]
  },
  {
   "cell_type": "code",
   "execution_count": 8,
   "id": "24b1076e-9807-4b33-b7dd-9828bbde7b48",
   "metadata": {},
   "outputs": [],
   "source": [
    "#2. *arg is used for no of arguments(arg used as conection) given in tuple\n",
    "def test(*arg):\n",
    "    return arg"
   ]
  },
  {
   "cell_type": "code",
   "execution_count": 9,
   "id": "1e2fe76b-047c-4802-b11c-210f2e24ba70",
   "metadata": {},
   "outputs": [
    {
     "data": {
      "text/plain": [
       "(1, 2, 3, 4, 45, 56, [1, 2, 3, 4, 4], 'omi', 'pwskills', True)"
      ]
     },
     "execution_count": 9,
     "metadata": {},
     "output_type": "execute_result"
    }
   ],
   "source": [
    "test(1,2,3,4,45,56,[1,2,3,4,4],'omi','pwskills',True)"
   ]
  },
  {
   "cell_type": "code",
   "execution_count": 10,
   "id": "02971a6a-052d-4ff3-8953-646279d478ea",
   "metadata": {},
   "outputs": [],
   "source": [
    "#  **kwargs gives dictionary for given data\n",
    "def test1(**kwargs):\n",
    "    return kwargs\n",
    "    "
   ]
  },
  {
   "cell_type": "code",
   "execution_count": 12,
   "id": "9900a819-085f-4023-8330-cafd830f55c0",
   "metadata": {},
   "outputs": [
    {
     "data": {
      "text/plain": [
       "{'a': 1, 'b': [1, 2, 3, 3, 4, 9], 'c': 'omi', 'd': (True, False)}"
      ]
     },
     "execution_count": 12,
     "metadata": {},
     "output_type": "execute_result"
    }
   ],
   "source": [
    "test1(a=1,b=[1,2,3,3,4,9],c='omi',d=(True,False))"
   ]
  },
  {
   "cell_type": "code",
   "execution_count": 1,
   "id": "c64825ad-184d-4796-bceb-d014ea1fb7ce",
   "metadata": {},
   "outputs": [],
   "source": [
    "# # 3. iterator is an object that implements the iterator protocol, allowing you to iterate over a sequence\n",
    "# of items one at a time. it used for list, tuples,etc in controlled manner.\n",
    "# methad used to initialise iterator object => iter() method and next() method.\n",
    "# method used to initilaize iteration as for loop , while loop , range ,etc\n",
    "l=[2,4,6,8,10,12,14,14,16,18,20]"
   ]
  },
  {
   "cell_type": "code",
   "execution_count": 6,
   "id": "fd6c4295-46a8-4ed7-adb8-873b9d24c928",
   "metadata": {
    "tags": []
   },
   "outputs": [],
   "source": [
    "o=iter(l)"
   ]
  },
  {
   "cell_type": "code",
   "execution_count": 7,
   "id": "067a9887-ec7f-42c3-9102-12760b459dfe",
   "metadata": {},
   "outputs": [
    {
     "data": {
      "text/plain": [
       "2"
      ]
     },
     "execution_count": 7,
     "metadata": {},
     "output_type": "execute_result"
    }
   ],
   "source": [
    "next(o)"
   ]
  },
  {
   "cell_type": "code",
   "execution_count": 8,
   "id": "ca23a60e-29e8-41d8-9c15-4b92040fd239",
   "metadata": {},
   "outputs": [
    {
     "data": {
      "text/plain": [
       "4"
      ]
     },
     "execution_count": 8,
     "metadata": {},
     "output_type": "execute_result"
    }
   ],
   "source": [
    "next(o)"
   ]
  },
  {
   "cell_type": "code",
   "execution_count": 9,
   "id": "91d34d3f-b6a7-4e82-9e17-212f42b0ba6e",
   "metadata": {},
   "outputs": [
    {
     "data": {
      "text/plain": [
       "6"
      ]
     },
     "execution_count": 9,
     "metadata": {},
     "output_type": "execute_result"
    }
   ],
   "source": [
    "next(o)"
   ]
  },
  {
   "cell_type": "code",
   "execution_count": 10,
   "id": "95101ffd-85f0-49ea-9186-1f897b29380d",
   "metadata": {},
   "outputs": [
    {
     "data": {
      "text/plain": [
       "8"
      ]
     },
     "execution_count": 10,
     "metadata": {},
     "output_type": "execute_result"
    }
   ],
   "source": [
    "next(o)"
   ]
  },
  {
   "cell_type": "code",
   "execution_count": 11,
   "id": "fcb89728-2369-4012-85ba-f991d1c80e25",
   "metadata": {},
   "outputs": [
    {
     "data": {
      "text/plain": [
       "10"
      ]
     },
     "execution_count": 11,
     "metadata": {},
     "output_type": "execute_result"
    }
   ],
   "source": [
    "next(o)"
   ]
  },
  {
   "cell_type": "code",
   "execution_count": 23,
   "id": "147f2970-09f9-40ec-a8e1-2761a3be04d8",
   "metadata": {},
   "outputs": [],
   "source": [
    "# # 4. Generator function is special type of function that generate value at one time \n",
    "# using yield keyword. Here yield keyword used to pause or resume genarator function indicate\n",
    "# # where function should yield value to caller.\n",
    "def test_(n):\n",
    "    a,b=2,4\n",
    "    for i in range(n):\n",
    "        yield a\n",
    "        a,b = b,a+b\n",
    "        "
   ]
  },
  {
   "cell_type": "code",
   "execution_count": 24,
   "id": "fe4b5500-58ec-4a13-8de7-3e2c3709502d",
   "metadata": {},
   "outputs": [
    {
     "data": {
      "text/plain": [
       "function"
      ]
     },
     "execution_count": 24,
     "metadata": {},
     "output_type": "execute_result"
    }
   ],
   "source": [
    "type(test_)"
   ]
  },
  {
   "cell_type": "code",
   "execution_count": 25,
   "id": "6295937d-fcfd-43bd-b331-9436aa36afab",
   "metadata": {},
   "outputs": [
    {
     "data": {
      "text/plain": [
       "<generator object test_ at 0x7f7f303a07b0>"
      ]
     },
     "execution_count": 25,
     "metadata": {},
     "output_type": "execute_result"
    }
   ],
   "source": [
    "test_(10)"
   ]
  },
  {
   "cell_type": "code",
   "execution_count": 26,
   "id": "0e34cd42-1c1a-47ca-83d6-9260c5a87e30",
   "metadata": {},
   "outputs": [
    {
     "name": "stdout",
     "output_type": "stream",
     "text": [
      "2\n",
      "4\n",
      "6\n",
      "10\n",
      "16\n",
      "26\n",
      "42\n",
      "68\n",
      "110\n",
      "178\n"
     ]
    }
   ],
   "source": [
    "for i in test_(10):\n",
    "    print(i)"
   ]
  },
  {
   "cell_type": "code",
   "execution_count": 1,
   "id": "949c2f76-72d4-4cfc-9b24-aa5a9087d797",
   "metadata": {},
   "outputs": [],
   "source": [
    "# 5.\n",
    "def prime_generte():\n",
    "    prime=[]\n",
    "    i =2\n",
    "    while i< 1000:\n",
    "        numbers = all(i % p!= 0 for p in prime)\n",
    "        if numbers :\n",
    "            prime.append(i)\n",
    "            yield i\n",
    "        i+=1\n",
    "        \n",
    "    "
   ]
  },
  {
   "cell_type": "code",
   "execution_count": 2,
   "id": "ef832679-0756-4ba9-85b2-239000773320",
   "metadata": {},
   "outputs": [],
   "source": [
    "prime_numbers= prime_generte()"
   ]
  },
  {
   "cell_type": "code",
   "execution_count": 3,
   "id": "2f05881e-11ac-463e-a2ea-e2073789fea0",
   "metadata": {},
   "outputs": [
    {
     "name": "stdout",
     "output_type": "stream",
     "text": [
      "2\n",
      "3\n",
      "5\n",
      "7\n",
      "11\n",
      "13\n",
      "17\n",
      "19\n",
      "23\n",
      "29\n",
      "31\n",
      "37\n",
      "41\n",
      "43\n",
      "47\n",
      "53\n",
      "59\n",
      "61\n",
      "67\n",
      "71\n"
     ]
    }
   ],
   "source": [
    "for k in range(20):\n",
    "    print(next(prime_numbers))"
   ]
  },
  {
   "cell_type": "code",
   "execution_count": 5,
   "id": "424153b0-2c95-4bfe-8a3a-46458ebe24af",
   "metadata": {},
   "outputs": [],
   "source": [
    "# 6. Fibonacci numbers is addition of previous two numbers.\n",
    "def test_(n):\n",
    "    a,b=0,1\n",
    "    while True :\n",
    "        yield a\n",
    "        a,b = b,a+b\n",
    "        "
   ]
  },
  {
   "cell_type": "code",
   "execution_count": 6,
   "id": "642e2941-7efd-4b04-8f1b-a41079b8143f",
   "metadata": {},
   "outputs": [],
   "source": [
    "fib= test_(10)"
   ]
  },
  {
   "cell_type": "code",
   "execution_count": 4,
   "id": "ee199ee5-eeed-4e98-8413-0dd53d5ce566",
   "metadata": {},
   "outputs": [
    {
     "name": "stdout",
     "output_type": "stream",
     "text": [
      "0\n",
      "1\n",
      "1\n",
      "2\n",
      "3\n",
      "5\n",
      "8\n",
      "13\n",
      "21\n",
      "34\n"
     ]
    }
   ],
   "source": [
    "for i in range(10):\n",
    "    print(next(fib))"
   ]
  },
  {
   "cell_type": "code",
   "execution_count": 7,
   "id": "1f8cab46-81e0-49dd-ac8b-2f4e222911d6",
   "metadata": {},
   "outputs": [],
   "source": [
    "# 7. \n",
    "string = 'pwslills'"
   ]
  },
  {
   "cell_type": "code",
   "execution_count": 9,
   "id": "39646479-8088-4de1-b71e-6af1d86836ac",
   "metadata": {},
   "outputs": [],
   "source": [
    "# we use lamda for this\n",
    "output= lambda string : list(string)"
   ]
  },
  {
   "cell_type": "code",
   "execution_count": 10,
   "id": "e3614989-a570-42a2-9e5c-595b720957f0",
   "metadata": {},
   "outputs": [
    {
     "data": {
      "text/plain": [
       "['p', 'w', 's', 'l', 'i', 'l', 'l', 's']"
      ]
     },
     "execution_count": 10,
     "metadata": {},
     "output_type": "execute_result"
    }
   ],
   "source": [
    "output(string)"
   ]
  },
  {
   "cell_type": "code",
   "execution_count": 12,
   "id": "1648c7c9-89fe-4737-9fb2-3c7b0afe06a7",
   "metadata": {},
   "outputs": [],
   "source": [
    "# 8.  integer is a palindrome if the reverse of that number is equal to the original number.\n",
    "def pal_drome():\n",
    "    n == int \n",
    "    while True :\n",
    "        yield n\n",
    "        n== n[::-1]\n",
    "     "
   ]
  },
  {
   "cell_type": "code",
   "execution_count": 12,
   "id": "ea0caf1f-e39e-4b03-b36b-7dcc69bc5eec",
   "metadata": {},
   "outputs": [],
   "source": [
    "# 9. filter used filtered given list into new one.\n",
    "l =list(range(1,101))"
   ]
  },
  {
   "cell_type": "code",
   "execution_count": 13,
   "id": "41c8254f-1973-46fc-a9e3-97b05530b0ae",
   "metadata": {},
   "outputs": [
    {
     "data": {
      "text/plain": [
       "[1,\n",
       " 3,\n",
       " 5,\n",
       " 7,\n",
       " 9,\n",
       " 11,\n",
       " 13,\n",
       " 15,\n",
       " 17,\n",
       " 19,\n",
       " 21,\n",
       " 23,\n",
       " 25,\n",
       " 27,\n",
       " 29,\n",
       " 31,\n",
       " 33,\n",
       " 35,\n",
       " 37,\n",
       " 39,\n",
       " 41,\n",
       " 43,\n",
       " 45,\n",
       " 47,\n",
       " 49,\n",
       " 51,\n",
       " 53,\n",
       " 55,\n",
       " 57,\n",
       " 59,\n",
       " 61,\n",
       " 63,\n",
       " 65,\n",
       " 67,\n",
       " 69,\n",
       " 71,\n",
       " 73,\n",
       " 75,\n",
       " 77,\n",
       " 79,\n",
       " 81,\n",
       " 83,\n",
       " 85,\n",
       " 87,\n",
       " 89,\n",
       " 91,\n",
       " 93,\n",
       " 95,\n",
       " 97,\n",
       " 99]"
      ]
     },
     "execution_count": 13,
     "metadata": {},
     "output_type": "execute_result"
    }
   ],
   "source": [
    "list(filter(lambda x : x% 2!= 0 ,l))"
   ]
  },
  {
   "cell_type": "code",
   "execution_count": null,
   "id": "f122d8c9-efc7-4465-b825-76185e95265f",
   "metadata": {},
   "outputs": [],
   "source": []
  }
 ],
 "metadata": {
  "kernelspec": {
   "display_name": "Python 3 (ipykernel)",
   "language": "python",
   "name": "python3"
  },
  "language_info": {
   "codemirror_mode": {
    "name": "ipython",
    "version": 3
   },
   "file_extension": ".py",
   "mimetype": "text/x-python",
   "name": "python",
   "nbconvert_exporter": "python",
   "pygments_lexer": "ipython3",
   "version": "3.10.8"
  }
 },
 "nbformat": 4,
 "nbformat_minor": 5
}
