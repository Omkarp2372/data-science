{
 "cells": [
  {
   "cell_type": "code",
   "execution_count": 1,
   "id": "993e06c2-2547-4d7d-a9c8-693a9073773b",
   "metadata": {},
   "outputs": [],
   "source": [
    "# # 1. in oop's , class and object are fundamental concepts.\n",
    "# A class => is a blueprint or template for creating objects.\n",
    "# It defines the properties (attributes) and \n",
    "# behaviors (methods) that the objects of that class will have.\n",
    "# An object is an instance of a class. \n",
    "# It's a concrete, tangible entity that is created based on the specifications defined by its class. "
   ]
  },
  {
   "cell_type": "code",
   "execution_count": 3,
   "id": "49a260d0-2d67-40a8-98ab-63fac57dd20b",
   "metadata": {},
   "outputs": [],
   "source": [
    "class test:\n",
    "    def calls_test(self):\n",
    "        return 'This is my first oops assignment'"
   ]
  },
  {
   "cell_type": "code",
   "execution_count": null,
   "id": "2645693f-cd30-4739-932d-d6ed49c28266",
   "metadata": {},
   "outputs": [],
   "source": [
    "#here we call test as class"
   ]
  },
  {
   "cell_type": "code",
   "execution_count": 7,
   "id": "3aa7f14f-a14d-44cb-ba52-d5e7850d855d",
   "metadata": {},
   "outputs": [],
   "source": [
    "a= test() # a is object that is instance of class"
   ]
  },
  {
   "cell_type": "code",
   "execution_count": 6,
   "id": "9e8cc0d3-b568-4ad9-b235-53685c935b75",
   "metadata": {},
   "outputs": [
    {
     "data": {
      "text/plain": [
       "'This is my first oops assignment'"
      ]
     },
     "execution_count": 6,
     "metadata": {},
     "output_type": "execute_result"
    }
   ],
   "source": [
    "a.calls_test()"
   ]
  },
  {
   "cell_type": "code",
   "execution_count": null,
   "id": "87776962-d8ee-4eb9-be31-842d961a6a49",
   "metadata": {},
   "outputs": [],
   "source": [
    "# # 2. four pollars of oop's are\n",
    "# polymorphism - It allows objects of different classes to be treated\n",
    "# as objects of a common superclass.\n",
    "# encapsulation -bundling of data (attributes) and the methods \n",
    "# (functions) that operate on the data into a single unit called a class.\n",
    "# inheritance - creation of a new class (subclass or derived class)\n",
    "# that inherits properties and behaviors from an existing class \n",
    "# abstraction - Hiding the implementation and make easy programming\n"
   ]
  },
  {
   "cell_type": "code",
   "execution_count": null,
   "id": "e72995be-3622-48a4-80c0-050fbe1acb8b",
   "metadata": {},
   "outputs": [],
   "source": [
    "# # 3. __init__ function used as constructor.special method in Python that is used to initialize \n",
    "# the attributes of an object when an instance of a class is created. "
   ]
  },
  {
   "cell_type": "code",
   "execution_count": 9,
   "id": "bbb05a2a-e2a4-4daf-ae0e-7af397135d9c",
   "metadata": {},
   "outputs": [],
   "source": [
    "class test :\n",
    "    def __init__(self , name , roll_call, marks):\n",
    "        self.name = name\n",
    "        self.roll_call = roll_call\n",
    "        self.marks =marks\n",
    "        \n",
    "    def annual_report(self):\n",
    "        return self.name,self.roll_call,self.marks\n",
    "        "
   ]
  },
  {
   "cell_type": "code",
   "execution_count": 11,
   "id": "307feb8b-612a-40e4-8d73-ace9814559f9",
   "metadata": {},
   "outputs": [],
   "source": [
    "omi =test(\"omi\",1, 99)"
   ]
  },
  {
   "cell_type": "code",
   "execution_count": 12,
   "id": "3eca5c4d-3408-47e6-b51b-849c18ac2b7d",
   "metadata": {},
   "outputs": [
    {
     "data": {
      "text/plain": [
       "99"
      ]
     },
     "execution_count": 12,
     "metadata": {},
     "output_type": "execute_result"
    }
   ],
   "source": [
    "omi.marks"
   ]
  },
  {
   "cell_type": "code",
   "execution_count": 13,
   "id": "50da95e1-1623-43f7-9c4e-08b4aa252116",
   "metadata": {},
   "outputs": [
    {
     "data": {
      "text/plain": [
       "('omi', 1, 99)"
      ]
     },
     "execution_count": 13,
     "metadata": {},
     "output_type": "execute_result"
    }
   ],
   "source": [
    "omi.annual_report()"
   ]
  },
  {
   "cell_type": "code",
   "execution_count": 14,
   "id": "1feb905d-3929-4749-806f-c116855e84f0",
   "metadata": {},
   "outputs": [],
   "source": [
    "# # 4. in oop's , self is used as a reference to the instance of the class.\n",
    "# The purpose of self is to allow methods to access and \n",
    "# manipulate the attributes of the specific instance that the method is being called on.\n",
    "# Using self, methods can access and modify the attributes of the instance.\n",
    "# in situation,multiple instances of the same class,\n",
    "# self ensures that each instance's attributes are accessed independently."
   ]
  },
  {
   "cell_type": "code",
   "execution_count": 18,
   "id": "e42525d4-92c2-4d2a-ba7b-871b6b7a27f1",
   "metadata": {},
   "outputs": [],
   "source": [
    "class test1:\n",
    "    def test_purpose():\n",
    "        return 'i will be present in every class'"
   ]
  },
  {
   "cell_type": "code",
   "execution_count": 19,
   "id": "0a4ecb61-3a71-48c5-8873-e641b84942ea",
   "metadata": {},
   "outputs": [],
   "source": [
    "a= test1()"
   ]
  },
  {
   "cell_type": "code",
   "execution_count": 20,
   "id": "c8095c7a-562e-441a-9f01-c894c30273ff",
   "metadata": {},
   "outputs": [
    {
     "ename": "TypeError",
     "evalue": "test1.test_purpose() takes 0 positional arguments but 1 was given",
     "output_type": "error",
     "traceback": [
      "\u001b[0;31m---------------------------------------------------------------------------\u001b[0m",
      "\u001b[0;31mTypeError\u001b[0m                                 Traceback (most recent call last)",
      "Cell \u001b[0;32mIn[20], line 1\u001b[0m\n\u001b[0;32m----> 1\u001b[0m \u001b[43ma\u001b[49m\u001b[38;5;241;43m.\u001b[39;49m\u001b[43mtest_purpose\u001b[49m\u001b[43m(\u001b[49m\u001b[43m)\u001b[49m\n",
      "\u001b[0;31mTypeError\u001b[0m: test1.test_purpose() takes 0 positional arguments but 1 was given"
     ]
    }
   ],
   "source": [
    "a.test_purpose()"
   ]
  },
  {
   "cell_type": "code",
   "execution_count": 21,
   "id": "da69f3bc-904b-4a66-9a59-714ca04b0fbf",
   "metadata": {},
   "outputs": [],
   "source": [
    "class test1:\n",
    "    def test_purpose(self):\n",
    "        return 'i will be present in every class'"
   ]
  },
  {
   "cell_type": "code",
   "execution_count": 22,
   "id": "c1eaac33-3c49-453f-845e-206cfa291403",
   "metadata": {},
   "outputs": [],
   "source": [
    "ab= test1()"
   ]
  },
  {
   "cell_type": "code",
   "execution_count": 23,
   "id": "6a95b70d-dd51-447b-878c-3bed6c7318e0",
   "metadata": {},
   "outputs": [
    {
     "data": {
      "text/plain": [
       "'i will be present in every class'"
      ]
     },
     "execution_count": 23,
     "metadata": {},
     "output_type": "execute_result"
    }
   ],
   "source": [
    "ab.test_purpose()"
   ]
  },
  {
   "cell_type": "code",
   "execution_count": 25,
   "id": "0f9b9882-ee5e-4baa-8bb6-60b86ceffb23",
   "metadata": {},
   "outputs": [],
   "source": [
    "# #5.inheritance - Inheritance is a fundamental concept of opp's\n",
    "# it allows new class inherit properties and behaviors from an existing class.\n",
    "# It promotes code reuse and establishes a relationship between classes in a hierarchical manner."
   ]
  },
  {
   "cell_type": "code",
   "execution_count": 26,
   "id": "12702e33-7ecc-4467-937d-ce9b479cc668",
   "metadata": {},
   "outputs": [],
   "source": [
    "# single inheritance - one subclass involved"
   ]
  },
  {
   "cell_type": "code",
   "execution_count": 27,
   "id": "3803798b-e231-47c4-be5c-1f26a9b1df74",
   "metadata": {},
   "outputs": [],
   "source": [
    "class test:\n",
    "    def test_write(self):\n",
    "        return 'Sun is centre of solar system'\n",
    "class test1(test):\n",
    "    def test1_write(self):\n",
    "        return 'I t is main source of light '\n",
    "    "
   ]
  },
  {
   "cell_type": "code",
   "execution_count": 28,
   "id": "fbcb8fb3-5eec-4d34-9941-fcf6b9c014d6",
   "metadata": {},
   "outputs": [],
   "source": [
    "a=test1()"
   ]
  },
  {
   "cell_type": "code",
   "execution_count": 30,
   "id": "d41aca7d-a0b1-483d-a663-453fe9b73221",
   "metadata": {},
   "outputs": [
    {
     "data": {
      "text/plain": [
       "'Sun is centre of solar system'"
      ]
     },
     "execution_count": 30,
     "metadata": {},
     "output_type": "execute_result"
    }
   ],
   "source": [
    "a.test_write()"
   ]
  },
  {
   "cell_type": "code",
   "execution_count": 31,
   "id": "4c1fb5f2-914a-407d-9ba0-9f2959946c6f",
   "metadata": {},
   "outputs": [
    {
     "data": {
      "text/plain": [
       "'I t is main source of light '"
      ]
     },
     "execution_count": 31,
     "metadata": {},
     "output_type": "execute_result"
    }
   ],
   "source": [
    "a.test1_write()"
   ]
  },
  {
   "cell_type": "code",
   "execution_count": 32,
   "id": "53d754a4-6d63-49ff-9be5-cdf9a3f5c3b1",
   "metadata": {},
   "outputs": [],
   "source": [
    "#Multilevel Inheritance:\n",
    "# Multilevel inheritance involves a subclass\n",
    "# inheriting from a base class, which itself inherits from another base class."
   ]
  },
  {
   "cell_type": "code",
   "execution_count": 34,
   "id": "545401b0-52be-4599-8430-139663105657",
   "metadata": {},
   "outputs": [],
   "source": [
    "class test:\n",
    "    def test_write(self):\n",
    "        return 'Sun is centre of solar system'\n",
    "class test1(test):\n",
    "    def test1_write(self):\n",
    "        return 'I t is main source of light '\n",
    "class test2(test1):\n",
    "    def test2_write(self):\n",
    "        return 'There are 8 planet in solar system'\n",
    "class test3(test2):\n",
    "    pass"
   ]
  },
  {
   "cell_type": "code",
   "execution_count": 35,
   "id": "f664f3f1-771e-4e12-bd7f-35aef9cd0383",
   "metadata": {},
   "outputs": [],
   "source": [
    "b = test3()"
   ]
  },
  {
   "cell_type": "code",
   "execution_count": 36,
   "id": "1cf4bbc0-0bab-40d8-85be-789bea916359",
   "metadata": {},
   "outputs": [
    {
     "data": {
      "text/plain": [
       "'There are 8 planet in solar system'"
      ]
     },
     "execution_count": 36,
     "metadata": {},
     "output_type": "execute_result"
    }
   ],
   "source": [
    "b.test2_write()"
   ]
  },
  {
   "cell_type": "code",
   "execution_count": 37,
   "id": "bee1bd82-ced1-4b79-82a6-21b6143dbc83",
   "metadata": {},
   "outputs": [],
   "source": [
    "# #Multiple Inheritance:\n",
    "# Multiple inheritance involves a subclass inheriting from more than one superclass."
   ]
  },
  {
   "cell_type": "code",
   "execution_count": 38,
   "id": "ec193a6d-fe11-4a92-afc8-f693b9983f68",
   "metadata": {},
   "outputs": [],
   "source": [
    "class m:\n",
    "    def write(self):\n",
    "        return 3+5\n",
    "class ma :\n",
    "    def write1(self):\n",
    "        return 3*5\n",
    "class man(m, ma):\n",
    "    pass"
   ]
  },
  {
   "cell_type": "code",
   "execution_count": 39,
   "id": "72b3834f-ac2d-450e-8951-589bd78b355e",
   "metadata": {},
   "outputs": [],
   "source": [
    "ad = man ()"
   ]
  },
  {
   "cell_type": "code",
   "execution_count": 40,
   "id": "2bdf382f-2372-481e-8c45-c2ec617364d2",
   "metadata": {},
   "outputs": [
    {
     "data": {
      "text/plain": [
       "8"
      ]
     },
     "execution_count": 40,
     "metadata": {},
     "output_type": "execute_result"
    }
   ],
   "source": [
    "ad.write()"
   ]
  },
  {
   "cell_type": "code",
   "execution_count": 41,
   "id": "287f56ba-bb0e-4d90-877f-676234994a4c",
   "metadata": {},
   "outputs": [
    {
     "data": {
      "text/plain": [
       "15"
      ]
     },
     "execution_count": 41,
     "metadata": {},
     "output_type": "execute_result"
    }
   ],
   "source": [
    "ad.write1()"
   ]
  },
  {
   "cell_type": "code",
   "execution_count": null,
   "id": "df998ced-d7f0-4e5f-864f-46ab8ca25dfd",
   "metadata": {},
   "outputs": [],
   "source": [
    "# #Hierarchical Inheritance:\n",
    "# Hierarchical inheritance involves multiple\n",
    "# subclasses inheriting from a single superclass."
   ]
  },
  {
   "cell_type": "code",
   "execution_count": 42,
   "id": "f9ce3306-5eb1-4c59-bf68-7899a12d5ee2",
   "metadata": {},
   "outputs": [],
   "source": [
    "# Hybrid Inheritance:combination of any of above class"
   ]
  }
 ],
 "metadata": {
  "kernelspec": {
   "display_name": "Python 3 (ipykernel)",
   "language": "python",
   "name": "python3"
  },
  "language_info": {
   "codemirror_mode": {
    "name": "ipython",
    "version": 3
   },
   "file_extension": ".py",
   "mimetype": "text/x-python",
   "name": "python",
   "nbconvert_exporter": "python",
   "pygments_lexer": "ipython3",
   "version": "3.10.8"
  }
 },
 "nbformat": 4,
 "nbformat_minor": 5
}
