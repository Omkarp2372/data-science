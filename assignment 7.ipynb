{
 "cells": [
  {
   "cell_type": "code",
   "execution_count": 1,
   "id": "ae92b08f-7569-4ad5-9c87-2920801534d9",
   "metadata": {},
   "outputs": [],
   "source": [
    "# # 1. Abstraction is one of the fundamental concept of oop's.\n",
    "# focuses on representing the essential characteristics and behaviors of\n",
    "# an object while hiding unnecessary details.\n",
    "# It provides a way to simplify complex reality.\n",
    "#abstraction involves creating classes that define the structure and behavior of objects."
   ]
  },
  {
   "cell_type": "code",
   "execution_count": 2,
   "id": "0a0012be-2364-4ac9-ac48-6b07cb38c406",
   "metadata": {},
   "outputs": [],
   "source": [
    "import abc#used for abstract class"
   ]
  },
  {
   "cell_type": "code",
   "execution_count": 3,
   "id": "4f1dc228-5b91-4ce0-980f-203f010bdb61",
   "metadata": {},
   "outputs": [],
   "source": [
    "class report:\n",
    "    @abc.abstractmethod\n",
    "    def student_details(self):\n",
    "        pass\n",
    "        \n",
    "    @abc.abstractmethod\n",
    "    def student_marks(self):\n",
    "        pass\n",
    "    "
   ]
  },
  {
   "cell_type": "code",
   "execution_count": 5,
   "id": "7f0d97c9-bf7d-42dd-b821-259577953c72",
   "metadata": {},
   "outputs": [],
   "source": [
    "class hsc(report):\n",
    "    def student_details(self):\n",
    "        return 'omkar krishnat patil'\n",
    "    \n",
    "    def student_marks(self):\n",
    "        return 'God Excellent grade'"
   ]
  },
  {
   "cell_type": "code",
   "execution_count": 6,
   "id": "40363d82-9d72-4c90-b80e-1102f338ae91",
   "metadata": {},
   "outputs": [],
   "source": [
    "roll_no1 = hsc()"
   ]
  },
  {
   "cell_type": "code",
   "execution_count": 7,
   "id": "bc2f2ee1-42fb-42a2-8822-81f818d30ca8",
   "metadata": {},
   "outputs": [
    {
     "data": {
      "text/plain": [
       "'omkar krishnat patil'"
      ]
     },
     "execution_count": 7,
     "metadata": {},
     "output_type": "execute_result"
    }
   ],
   "source": [
    "roll_no1.student_details()"
   ]
  },
  {
   "cell_type": "code",
   "execution_count": 8,
   "id": "9af441f1-2138-4c47-ae9e-709ccd4fbce1",
   "metadata": {},
   "outputs": [
    {
     "data": {
      "text/plain": [
       "'God Excellent grade'"
      ]
     },
     "execution_count": 8,
     "metadata": {},
     "output_type": "execute_result"
    }
   ],
   "source": [
    "roll_no1.student_marks()"
   ]
  },
  {
   "cell_type": "code",
   "execution_count": 9,
   "id": "29fed16b-90e6-498c-bdfb-8deda56bde15",
   "metadata": {},
   "outputs": [],
   "source": [
    "# #2. Abstraction involves creating simplified models that \n",
    "# capture the essential attributes and behaviors of real-world objects.while\n",
    "# Encapsulation involves bundling the data (attributes) and the methods (functions) \n",
    "# that operate on that data into a single unit (a class).\n",
    "# The purpose of abstraction is to provide a clear and concise representation of objects,\n",
    "# The purpose of encapsulation is to provide data protection, prevent unauthorized access."
   ]
  },
  {
   "cell_type": "code",
   "execution_count": 11,
   "id": "33249a1d-caf1-46b5-bcf4-947f9bb2eedc",
   "metadata": {},
   "outputs": [],
   "source": [
    "# already abc imported\n",
    "class pws(report):\n",
    "    def student_details(self):\n",
    "        return 'neru surya chad'\n",
    "    \n",
    "    def student_marks(self):\n",
    "        return 'Got Good grade'"
   ]
  },
  {
   "cell_type": "code",
   "execution_count": 12,
   "id": "af721669-f049-448b-944c-e147b0785782",
   "metadata": {},
   "outputs": [],
   "source": [
    "ok = pws()"
   ]
  },
  {
   "cell_type": "code",
   "execution_count": 13,
   "id": "55de190a-2181-4e20-b444-d2f3c3a2782f",
   "metadata": {},
   "outputs": [
    {
     "data": {
      "text/plain": [
       "'neru surya chad'"
      ]
     },
     "execution_count": 13,
     "metadata": {},
     "output_type": "execute_result"
    }
   ],
   "source": [
    "ok.student_details()"
   ]
  },
  {
   "cell_type": "code",
   "execution_count": 14,
   "id": "a85e78a5-00ac-40c5-ad80-f71bc958b636",
   "metadata": {},
   "outputs": [
    {
     "data": {
      "text/plain": [
       "'Got Good grade'"
      ]
     },
     "execution_count": 14,
     "metadata": {},
     "output_type": "execute_result"
    }
   ],
   "source": [
    "ok.student_marks()"
   ]
  },
  {
   "cell_type": "code",
   "execution_count": 20,
   "id": "056421b7-0973-4ece-83c3-aab8ecf477d8",
   "metadata": {},
   "outputs": [],
   "source": [
    "#in encapsulation we use __init__constructor\n",
    "class school :\n",
    "    \n",
    "    def __init__(self, name , year_est , achive ):\n",
    "        self.__name = name\n",
    "        self.__year_est =year_est\n",
    "        self.__achive = achive\n",
    "        \n",
    "    "
   ]
  },
  {
   "cell_type": "code",
   "execution_count": 21,
   "id": "847906c1-9c04-4352-b749-94de2ecd4b0e",
   "metadata": {},
   "outputs": [],
   "source": [
    "A = school('d.c. narke' , 1999 , 'best school')"
   ]
  },
  {
   "cell_type": "code",
   "execution_count": 23,
   "id": "18258e09-b7e2-4dc5-b347-4c73985b1407",
   "metadata": {},
   "outputs": [
    {
     "data": {
      "text/plain": [
       "'d.c. narke'"
      ]
     },
     "execution_count": 23,
     "metadata": {},
     "output_type": "execute_result"
    }
   ],
   "source": [
    "A._school__name"
   ]
  },
  {
   "cell_type": "code",
   "execution_count": 24,
   "id": "d36a38c9-23ca-49a4-9a63-1df2338a016f",
   "metadata": {},
   "outputs": [
    {
     "data": {
      "text/plain": [
       "'best school'"
      ]
     },
     "execution_count": 24,
     "metadata": {},
     "output_type": "execute_result"
    }
   ],
   "source": [
    "A._school__achive"
   ]
  },
  {
   "cell_type": "code",
   "execution_count": 25,
   "id": "76e30c0e-ef01-4b75-8c6a-3efde014c8c0",
   "metadata": {},
   "outputs": [],
   "source": [
    "# # 3.The abc module in Python stands for \"Abstract Base Classes.\n",
    "# It provides mechanisms for creating abstract base classes (ABCs)\n",
    "# and defining abstract methods. \n",
    "# The main purpose of the abc module is to support and enforce abstraction and polymorphism.\n",
    "# They are used to define a common interface and structure for subclasses"
   ]
  },
  {
   "cell_type": "code",
   "execution_count": 26,
   "id": "70f5f63a-264c-4bbf-9750-3ebb76797500",
   "metadata": {},
   "outputs": [],
   "source": [
    "import abc\n",
    "class area:\n",
    "    @abc.abstractmethod\n",
    "    def area(self):\n",
    "        pass"
   ]
  },
  {
   "cell_type": "code",
   "execution_count": 27,
   "id": "5eeec28b-aa11-45b6-9768-9838c0b36535",
   "metadata": {},
   "outputs": [],
   "source": [
    "class circle(area):\n",
    "    def __init__(self, radius):\n",
    "        self.radius = radius\n",
    "        \n",
    "    def area(self):\n",
    "        return 3.14*self.radius*self.radius"
   ]
  },
  {
   "cell_type": "code",
   "execution_count": 29,
   "id": "e34019e3-636d-43f6-920a-854bb24311dd",
   "metadata": {},
   "outputs": [],
   "source": [
    "a = circle(2)"
   ]
  },
  {
   "cell_type": "code",
   "execution_count": 31,
   "id": "c0c3b437-8d45-4d68-94aa-d0ec8d302cc3",
   "metadata": {},
   "outputs": [
    {
     "data": {
      "text/plain": [
       "12.56"
      ]
     },
     "execution_count": 31,
     "metadata": {},
     "output_type": "execute_result"
    }
   ],
   "source": [
    "a.area()"
   ]
  },
  {
   "cell_type": "code",
   "execution_count": 33,
   "id": "4ba0da34-c420-4fff-9bff-1f9cf4c0c741",
   "metadata": {},
   "outputs": [],
   "source": [
    "class rectangle(area):\n",
    "    def __init__(self, l ,b ):\n",
    "        self.l = l\n",
    "        self.b = b\n",
    "    \n",
    "    def area(self):\n",
    "        return self.l*self.b"
   ]
  },
  {
   "cell_type": "code",
   "execution_count": 34,
   "id": "e27226e2-1414-4601-8233-8372e11e6301",
   "metadata": {},
   "outputs": [],
   "source": [
    "b=rectangle(2,3)"
   ]
  },
  {
   "cell_type": "code",
   "execution_count": 35,
   "id": "5f58841e-4cd7-473a-a8a4-d7e8fb64662c",
   "metadata": {},
   "outputs": [
    {
     "data": {
      "text/plain": [
       "6"
      ]
     },
     "execution_count": 35,
     "metadata": {},
     "output_type": "execute_result"
    }
   ],
   "source": [
    "b.area()"
   ]
  },
  {
   "cell_type": "code",
   "execution_count": 36,
   "id": "ea2770ac-4199-4cf6-bff1-e9b9f84e2f62",
   "metadata": {},
   "outputs": [],
   "source": [
    "# #4. data abstaction chieved by creating abstract classes that define \n",
    "# a clear and simplified interface for interacting with\n",
    "# objects, while hiding the underlying implementation details.\n",
    "# here first import abc and make base class using @abstractmetod which use for no of subclasses"
   ]
  },
  {
   "cell_type": "code",
   "execution_count": 37,
   "id": "9407f6e5-179d-4173-be39-094858c90fe8",
   "metadata": {},
   "outputs": [],
   "source": [
    "import abc\n",
    "class area:\n",
    "    @abc.abstractmethod\n",
    "    def area(self):\n",
    "        pass"
   ]
  },
  {
   "cell_type": "code",
   "execution_count": 40,
   "id": "dffeb8a0-f90b-4560-8ee4-f437604c1077",
   "metadata": {},
   "outputs": [],
   "source": [
    "class square(area):\n",
    "    def __init__(self , l):\n",
    "        self.l = l\n",
    "        \n",
    "    def area(self):\n",
    "        return self.l*self.l"
   ]
  },
  {
   "cell_type": "code",
   "execution_count": 41,
   "id": "c71422fe-5ab1-44b1-a3d5-ffef866252d2",
   "metadata": {},
   "outputs": [],
   "source": [
    "c= square(4)"
   ]
  },
  {
   "cell_type": "code",
   "execution_count": 43,
   "id": "e5b6215d-d42b-49c5-ac11-38c2baecb8a7",
   "metadata": {},
   "outputs": [
    {
     "data": {
      "text/plain": [
       "16"
      ]
     },
     "execution_count": 43,
     "metadata": {},
     "output_type": "execute_result"
    }
   ],
   "source": [
    "c.area()"
   ]
  },
  {
   "cell_type": "code",
   "execution_count": 50,
   "id": "a57ec3f1-70cd-40ca-a3f7-573f25c4dd89",
   "metadata": {},
   "outputs": [],
   "source": [
    "# 5. \n",
    "from abc import ABC # here ABC as class base for abc\n",
    "class abstract(ABC):\n",
    "    @abc.abstractmethod\n",
    "    def abstract_method(self):\n",
    "        pass\n",
    "    \n",
    "class subclass(abstract):\n",
    "    def abstract_method(self):\n",
    "        return 'result'\n"
   ]
  },
  {
   "cell_type": "code",
   "execution_count": 51,
   "id": "ca963457-a409-4eb6-936e-a5079411ee7a",
   "metadata": {},
   "outputs": [
    {
     "ename": "TypeError",
     "evalue": "Can't instantiate abstract class abstract with abstract method abstract_method",
     "output_type": "error",
     "traceback": [
      "\u001b[0;31m---------------------------------------------------------------------------\u001b[0m",
      "\u001b[0;31mTypeError\u001b[0m                                 Traceback (most recent call last)",
      "Cell \u001b[0;32mIn[51], line 1\u001b[0m\n\u001b[0;32m----> 1\u001b[0m a \u001b[38;5;241m=\u001b[39m \u001b[43mabstract\u001b[49m\u001b[43m(\u001b[49m\u001b[43m)\u001b[49m\n",
      "\u001b[0;31mTypeError\u001b[0m: Can't instantiate abstract class abstract with abstract method abstract_method"
     ]
    }
   ],
   "source": [
    "a = abstract()"
   ]
  },
  {
   "cell_type": "code",
   "execution_count": null,
   "id": "57d1548a-6912-4146-974f-caa48bb714e2",
   "metadata": {},
   "outputs": [],
   "source": [
    "# #so,we can not create an instance of an abstract class.\n",
    "# becauseAbstract classes are designed to be incomplete \n",
    "# and provide a blueprint for other classes to inherit from. "
   ]
  }
 ],
 "metadata": {
  "kernelspec": {
   "display_name": "Python 3 (ipykernel)",
   "language": "python",
   "name": "python3"
  },
  "language_info": {
   "codemirror_mode": {
    "name": "ipython",
    "version": 3
   },
   "file_extension": ".py",
   "mimetype": "text/x-python",
   "name": "python",
   "nbconvert_exporter": "python",
   "pygments_lexer": "ipython3",
   "version": "3.10.8"
  }
 },
 "nbformat": 4,
 "nbformat_minor": 5
}
